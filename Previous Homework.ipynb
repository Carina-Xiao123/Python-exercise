{
  "nbformat": 4,
  "nbformat_minor": 0,
  "metadata": {
    "kernelspec": {
      "display_name": "Python 3",
      "language": "python",
      "name": "python3"
    },
    "language_info": {
      "codemirror_mode": {
        "name": "ipython",
        "version": 3
      },
      "file_extension": ".py",
      "mimetype": "text/x-python",
      "name": "python",
      "nbconvert_exporter": "python",
      "pygments_lexer": "ipython3",
      "version": "3.7.3"
    },
    "colab": {
      "name": "Old Homework.ipynb",
      "provenance": []
    }
  },
  "cells": [
    {
      "cell_type": "markdown",
      "metadata": {
        "id": "rZtlE4EnXz-J",
        "colab_type": "text"
      },
      "source": [
        "## MSBC 5070 Survey for Business Analytics \n",
        "\n"
      ]
    },
    {
      "cell_type": "markdown",
      "metadata": {
        "id": "YGsBe1EwXz-S",
        "colab_type": "text"
      },
      "source": [
        "<b>Last Name:</b>  Xiao\n",
        "    \n",
        "<b>First Name:</b> Qingdi\n",
        "\n",
        "<b>Student ID:</b> 105784140\n",
        "\n",
        "<b>Section:</b> 202"
      ]
    },
    {
      "cell_type": "code",
      "metadata": {
        "id": "CX-vpyhsXz-T",
        "colab_type": "code",
        "colab": {}
      },
      "source": [
        "# print all the outputs in a cell\n",
        "from IPython.core.interactiveshell import InteractiveShell\n",
        "InteractiveShell.ast_node_interactivity = \"all\"\n",
        "\n",
        "import pandas as pd\n",
        "import numpy as np"
      ],
      "execution_count": 0,
      "outputs": []
    },
    {
      "cell_type": "code",
      "metadata": {
        "id": "P2x3_1pVXz-k",
        "colab_type": "code",
        "colab": {}
      },
      "source": [
        "respondents={'Amy': 0,\n",
        " 'Bob': 1,\n",
        " 'Catherine': 2,\n",
        " 'Dorothy': 3,\n",
        " 'Edward': 4,\n",
        " 'Frankie': 5,\n",
        " 'Gregory': 6,\n",
        " 'Heather': 7,\n",
        " 'Iris': 8,\n",
        " 'Javard': 9}"
      ],
      "execution_count": 0,
      "outputs": []
    },
    {
      "cell_type": "code",
      "metadata": {
        "id": "VmKL1GjeXz-v",
        "colab_type": "code",
        "colab": {}
      },
      "source": [
        "survey=['I have basic knowledge in Python.',\n",
        " 'I am proficient in Java, and has some knowledge in R.',\n",
        " 'I am familiar with C++, familiar with R, and familiar with Matlab.',\n",
        " 'I have never used Python, but proficient in R.',\n",
        " 'I have some knowledge in C++, and familiar with SQL.',\n",
        " 'I have never used C++, and have basic knowledge in Python.',\n",
        " 'I have never used Java, and have basic knowledge in SQL.',\n",
        " 'I am proficient in C++, and proficient in Python.',\n",
        " 'I have basic knowledge in R, and some knowledge in C++, but never used Python.',\n",
        " 'I am familiar with Tableau, and famililar with Excel but never used R.']"
      ],
      "execution_count": 0,
      "outputs": []
    },
    {
      "cell_type": "code",
      "metadata": {
        "id": "qPgkBjrUZgBo",
        "colab_type": "code",
        "colab": {}
      },
      "source": [
        "#Getting the name and response from the table given in the question"
      ],
      "execution_count": 0,
      "outputs": []
    },
    {
      "cell_type": "code",
      "metadata": {
        "id": "ATuT8B9sXz-3",
        "colab_type": "code",
        "colab": {}
      },
      "source": [
        "df  = pd.read_csv('studentsurvey.csv')"
      ],
      "execution_count": 0,
      "outputs": []
    },
    {
      "cell_type": "code",
      "metadata": {
        "id": "Ez9ZiF1MXz--",
        "colab_type": "code",
        "colab": {},
        "outputId": "11b354a3-b5a8-4928-be23-b312c205f349"
      },
      "source": [
        "df"
      ],
      "execution_count": 0,
      "outputs": [
        {
          "output_type": "execute_result",
          "data": {
            "text/html": [
              "<div>\n",
              "<style scoped>\n",
              "    .dataframe tbody tr th:only-of-type {\n",
              "        vertical-align: middle;\n",
              "    }\n",
              "\n",
              "    .dataframe tbody tr th {\n",
              "        vertical-align: top;\n",
              "    }\n",
              "\n",
              "    .dataframe thead th {\n",
              "        text-align: right;\n",
              "    }\n",
              "</style>\n",
              "<table border=\"1\" class=\"dataframe\">\n",
              "  <thead>\n",
              "    <tr style=\"text-align: right;\">\n",
              "      <th></th>\n",
              "      <th>Unnamed: 0</th>\n",
              "      <th>Survey</th>\n",
              "    </tr>\n",
              "  </thead>\n",
              "  <tbody>\n",
              "    <tr>\n",
              "      <th>0</th>\n",
              "      <td>Amy</td>\n",
              "      <td>I have basic knowledge in Python.</td>\n",
              "    </tr>\n",
              "    <tr>\n",
              "      <th>1</th>\n",
              "      <td>Bob</td>\n",
              "      <td>I am proficient in Java, and has some knowledg...</td>\n",
              "    </tr>\n",
              "    <tr>\n",
              "      <th>2</th>\n",
              "      <td>Catherine</td>\n",
              "      <td>I am familiar with C++, familiar with R, and f...</td>\n",
              "    </tr>\n",
              "    <tr>\n",
              "      <th>3</th>\n",
              "      <td>Dorothy</td>\n",
              "      <td>I have never used Python, but proficient in R.</td>\n",
              "    </tr>\n",
              "    <tr>\n",
              "      <th>4</th>\n",
              "      <td>Edward</td>\n",
              "      <td>I have some knowledge in C++, and familiar wit...</td>\n",
              "    </tr>\n",
              "    <tr>\n",
              "      <th>5</th>\n",
              "      <td>Frankie</td>\n",
              "      <td>I have never used C++, and have basic knowledg...</td>\n",
              "    </tr>\n",
              "    <tr>\n",
              "      <th>6</th>\n",
              "      <td>Gregory</td>\n",
              "      <td>I have never used Java, and have basic knowled...</td>\n",
              "    </tr>\n",
              "    <tr>\n",
              "      <th>7</th>\n",
              "      <td>Heather</td>\n",
              "      <td>I am proficient in C++, and proficient in Python.</td>\n",
              "    </tr>\n",
              "    <tr>\n",
              "      <th>8</th>\n",
              "      <td>Iris</td>\n",
              "      <td>I have basic knowledge in R, and some knowledg...</td>\n",
              "    </tr>\n",
              "    <tr>\n",
              "      <th>9</th>\n",
              "      <td>Javard</td>\n",
              "      <td>I am familiar with Tableau, and famililar with...</td>\n",
              "    </tr>\n",
              "  </tbody>\n",
              "</table>\n",
              "</div>"
            ],
            "text/plain": [
              "  Unnamed: 0                                             Survey\n",
              "0        Amy                  I have basic knowledge in Python.\n",
              "1        Bob  I am proficient in Java, and has some knowledg...\n",
              "2  Catherine  I am familiar with C++, familiar with R, and f...\n",
              "3    Dorothy     I have never used Python, but proficient in R.\n",
              "4     Edward  I have some knowledge in C++, and familiar wit...\n",
              "5    Frankie  I have never used C++, and have basic knowledg...\n",
              "6    Gregory  I have never used Java, and have basic knowled...\n",
              "7    Heather  I am proficient in C++, and proficient in Python.\n",
              "8       Iris  I have basic knowledge in R, and some knowledg...\n",
              "9     Javard  I am familiar with Tableau, and famililar with..."
            ]
          },
          "metadata": {
            "tags": []
          },
          "execution_count": 5
        }
      ]
    },
    {
      "cell_type": "code",
      "metadata": {
        "id": "D1YHhrKbZzKT",
        "colab_type": "code",
        "colab": {}
      },
      "source": [
        "# Summarizing the responses. Making the csv file by myself"
      ],
      "execution_count": 0,
      "outputs": []
    },
    {
      "cell_type": "code",
      "metadata": {
        "id": "qLk_sGzNXz_F",
        "colab_type": "code",
        "colab": {},
        "outputId": "0ef431f1-376f-4898-cec6-f0d20be292c5"
      },
      "source": [
        "df.head"
      ],
      "execution_count": 0,
      "outputs": [
        {
          "output_type": "execute_result",
          "data": {
            "text/plain": [
              "<bound method NDFrame.head of   Unnamed: 0                                             Survey\n",
              "0        Amy                  I have basic knowledge in Python.\n",
              "1        Bob  I am proficient in Java, and has some knowledg...\n",
              "2  Catherine  I am familiar with C++, familiar with R, and f...\n",
              "3    Dorothy     I have never used Python, but proficient in R.\n",
              "4     Edward  I have some knowledge in C++, and familiar wit...\n",
              "5    Frankie  I have never used C++, and have basic knowledg...\n",
              "6    Gregory  I have never used Java, and have basic knowled...\n",
              "7    Heather  I am proficient in C++, and proficient in Python.\n",
              "8       Iris  I have basic knowledge in R, and some knowledg...\n",
              "9     Javard  I am familiar with Tableau, and famililar with...>"
            ]
          },
          "metadata": {
            "tags": []
          },
          "execution_count": 6
        }
      ]
    },
    {
      "cell_type": "code",
      "metadata": {
        "id": "t1UF-Nyka4wg",
        "colab_type": "code",
        "colab": {}
      },
      "source": [
        "# CPP name in response doesn't corresponsd with column name. Using replace function to replace C++ to CPP in the survey response to make the CPP column not all zeros in final dataframe. "
      ],
      "execution_count": 0,
      "outputs": []
    },
    {
      "cell_type": "code",
      "metadata": {
        "id": "n_2qE5DNXz_P",
        "colab_type": "code",
        "colab": {},
        "outputId": "29fde289-1b95-4859-9be1-1987200b74fc"
      },
      "source": [
        "df['Survey'].replace({'C\\++': 'CPP'}, inplace=True, regex=True)\n",
        "df.head"
      ],
      "execution_count": 0,
      "outputs": [
        {
          "output_type": "execute_result",
          "data": {
            "text/plain": [
              "<bound method NDFrame.head of   Unnamed: 0                                             Survey\n",
              "0        Amy                  I have basic knowledge in Python.\n",
              "1        Bob  I am proficient in Java, and has some knowledg...\n",
              "2  Catherine  I am familiar with CPP, familiar with R, and f...\n",
              "3    Dorothy     I have never used Python, but proficient in R.\n",
              "4     Edward  I have some knowledge in CPP, and familiar wit...\n",
              "5    Frankie  I have never used CPP, and have basic knowledg...\n",
              "6    Gregory  I have never used Java, and have basic knowled...\n",
              "7    Heather  I am proficient in CPP, and proficient in Python.\n",
              "8       Iris  I have basic knowledge in R, and some knowledg...\n",
              "9     Javard  I am familiar with Tableau, and famililar with...>"
            ]
          },
          "metadata": {
            "tags": []
          },
          "execution_count": 7
        }
      ]
    },
    {
      "cell_type": "markdown",
      "metadata": {
        "id": "jWIHErghXz_U",
        "colab_type": "text"
      },
      "source": [
        "\"proficient in (language)\"=4 \"familiar with (language)\"=3 \"basic knowledge in (language)\"=2 \"some knowledge in (language)\"=1 otherwise=0"
      ]
    },
    {
      "cell_type": "code",
      "metadata": {
        "id": "i3Bm4TcfXz_W",
        "colab_type": "code",
        "colab": {}
      },
      "source": [
        "def R(survey):\n",
        "    if \"proficient in R\" in survey:\n",
        "        return 4\n",
        "    elif \"familiar with R\" in survey:\n",
        "        return 3\n",
        "    elif \"basic knowledge in R\" in survey:\n",
        "        return 2\n",
        "    elif \"some knowledge in R\" in survey:\n",
        "        return 1\n",
        "    else:\n",
        "        return 0"
      ],
      "execution_count": 0,
      "outputs": []
    },
    {
      "cell_type": "code",
      "metadata": {
        "id": "cRasz1DZXz_d",
        "colab_type": "code",
        "colab": {}
      },
      "source": [
        "def CPP(survey):\n",
        "    if \"proficient in CPP\" in survey:\n",
        "        return 4\n",
        "    elif \"familiar with CPP\" in survey:\n",
        "        return 3\n",
        "    elif \"basic knowledge in CPP\" in survey:\n",
        "        return 2\n",
        "    elif \"some knowledge in CPP\" in survey:\n",
        "        return 1\n",
        "    else:\n",
        "        return 0"
      ],
      "execution_count": 0,
      "outputs": []
    },
    {
      "cell_type": "code",
      "metadata": {
        "id": "0lOQKahGXz_l",
        "colab_type": "code",
        "colab": {}
      },
      "source": [
        "def Python(survey):\n",
        "    if \"proficient in Python\" in survey:\n",
        "        return 4\n",
        "    elif \"familiar with Python\" in survey:\n",
        "        return 3\n",
        "    elif \"basic knowledge in Python\" in survey:\n",
        "        return 2\n",
        "    elif \"some knowledge in Python\" in survey:\n",
        "        return 1\n",
        "    else:\n",
        "        return 0"
      ],
      "execution_count": 0,
      "outputs": []
    },
    {
      "cell_type": "code",
      "metadata": {
        "id": "1srUWUCCXz_z",
        "colab_type": "code",
        "colab": {}
      },
      "source": [
        "def SQL(survey):\n",
        "    if \"proficient in SQL\" in survey:\n",
        "        return 4\n",
        "    elif \"familiar with SQL\" in survey:\n",
        "        return 3\n",
        "    elif \"basic knowledge in SQL\" in survey:\n",
        "        return 2\n",
        "    elif \"some knowledge in SQL\" in survey:\n",
        "        return 1\n",
        "    else:\n",
        "        return 0"
      ],
      "execution_count": 0,
      "outputs": []
    },
    {
      "cell_type": "code",
      "metadata": {
        "id": "R42YB95HXz_5",
        "colab_type": "code",
        "colab": {}
      },
      "source": [
        "def Matlab(survey):\n",
        "    if \"proficient in Matlab\" in survey:\n",
        "        return 4\n",
        "    elif \"familiar with Matlab\" in survey:\n",
        "        return 3\n",
        "    elif \"basic knowledge in Matlab\" in survey:\n",
        "        return 2\n",
        "    elif \"some knowledge in Matlab\" in survey:\n",
        "        return 1\n",
        "    else:\n",
        "        return 0"
      ],
      "execution_count": 0,
      "outputs": []
    },
    {
      "cell_type": "code",
      "metadata": {
        "id": "KvOVqQTNX0AB",
        "colab_type": "code",
        "colab": {}
      },
      "source": [
        "def Tableau(survey):\n",
        "    if \"proficient in Tableau\" in survey:\n",
        "        return 4\n",
        "    elif \"familiar with Tableau\" in survey:\n",
        "        return 3\n",
        "    elif \"basic knowledge in Tableau\" in survey:\n",
        "        return 2\n",
        "    elif \"some knowledge in Tableau\" in survey:\n",
        "        return 1\n",
        "    else:\n",
        "        return 0"
      ],
      "execution_count": 0,
      "outputs": []
    },
    {
      "cell_type": "code",
      "metadata": {
        "id": "AuBfVu62X0AK",
        "colab_type": "code",
        "colab": {}
      },
      "source": [
        "def Java(survey):\n",
        "    if \"proficient in Java\" in survey:\n",
        "        return 4\n",
        "    elif \"familiar with Java\" in survey:\n",
        "        return 3\n",
        "    elif \"basic knowledge in Java\" in survey:\n",
        "        return 2\n",
        "    elif \"some knowledge in Java\" in survey:\n",
        "        return 1\n",
        "    else:\n",
        "        return 0"
      ],
      "execution_count": 0,
      "outputs": []
    },
    {
      "cell_type": "code",
      "metadata": {
        "id": "sumactmoae9g",
        "colab_type": "code",
        "colab": {}
      },
      "source": [
        "# Define functions in survey based on the number given"
      ],
      "execution_count": 0,
      "outputs": []
    },
    {
      "cell_type": "code",
      "metadata": {
        "id": "AznD4026X0AS",
        "colab_type": "code",
        "colab": {},
        "outputId": "2247a658-a7f2-4a7a-ccaf-6c1582d345d4"
      },
      "source": [
        "df['R'] = df['Survey'].apply(R)\n",
        "df.head()"
      ],
      "execution_count": 0,
      "outputs": [
        {
          "output_type": "execute_result",
          "data": {
            "text/html": [
              "<div>\n",
              "<style scoped>\n",
              "    .dataframe tbody tr th:only-of-type {\n",
              "        vertical-align: middle;\n",
              "    }\n",
              "\n",
              "    .dataframe tbody tr th {\n",
              "        vertical-align: top;\n",
              "    }\n",
              "\n",
              "    .dataframe thead th {\n",
              "        text-align: right;\n",
              "    }\n",
              "</style>\n",
              "<table border=\"1\" class=\"dataframe\">\n",
              "  <thead>\n",
              "    <tr style=\"text-align: right;\">\n",
              "      <th></th>\n",
              "      <th>Unnamed: 0</th>\n",
              "      <th>Survey</th>\n",
              "      <th>R</th>\n",
              "    </tr>\n",
              "  </thead>\n",
              "  <tbody>\n",
              "    <tr>\n",
              "      <th>0</th>\n",
              "      <td>Amy</td>\n",
              "      <td>I have basic knowledge in Python.</td>\n",
              "      <td>0</td>\n",
              "    </tr>\n",
              "    <tr>\n",
              "      <th>1</th>\n",
              "      <td>Bob</td>\n",
              "      <td>I am proficient in Java, and has some knowledg...</td>\n",
              "      <td>1</td>\n",
              "    </tr>\n",
              "    <tr>\n",
              "      <th>2</th>\n",
              "      <td>Catherine</td>\n",
              "      <td>I am familiar with CPP, familiar with R, and f...</td>\n",
              "      <td>3</td>\n",
              "    </tr>\n",
              "    <tr>\n",
              "      <th>3</th>\n",
              "      <td>Dorothy</td>\n",
              "      <td>I have never used Python, but proficient in R.</td>\n",
              "      <td>4</td>\n",
              "    </tr>\n",
              "    <tr>\n",
              "      <th>4</th>\n",
              "      <td>Edward</td>\n",
              "      <td>I have some knowledge in CPP, and familiar wit...</td>\n",
              "      <td>0</td>\n",
              "    </tr>\n",
              "  </tbody>\n",
              "</table>\n",
              "</div>"
            ],
            "text/plain": [
              "  Unnamed: 0                                             Survey  R\n",
              "0        Amy                  I have basic knowledge in Python.  0\n",
              "1        Bob  I am proficient in Java, and has some knowledg...  1\n",
              "2  Catherine  I am familiar with CPP, familiar with R, and f...  3\n",
              "3    Dorothy     I have never used Python, but proficient in R.  4\n",
              "4     Edward  I have some knowledge in CPP, and familiar wit...  0"
            ]
          },
          "metadata": {
            "tags": []
          },
          "execution_count": 15
        }
      ]
    },
    {
      "cell_type": "code",
      "metadata": {
        "id": "yBEW-uukX0AW",
        "colab_type": "code",
        "colab": {},
        "outputId": "52083140-06f1-4994-b649-e7c74f97d4f4"
      },
      "source": [
        "df['CPP'] = df['Survey'].apply(CPP)\n",
        "df.head()"
      ],
      "execution_count": 0,
      "outputs": [
        {
          "output_type": "execute_result",
          "data": {
            "text/html": [
              "<div>\n",
              "<style scoped>\n",
              "    .dataframe tbody tr th:only-of-type {\n",
              "        vertical-align: middle;\n",
              "    }\n",
              "\n",
              "    .dataframe tbody tr th {\n",
              "        vertical-align: top;\n",
              "    }\n",
              "\n",
              "    .dataframe thead th {\n",
              "        text-align: right;\n",
              "    }\n",
              "</style>\n",
              "<table border=\"1\" class=\"dataframe\">\n",
              "  <thead>\n",
              "    <tr style=\"text-align: right;\">\n",
              "      <th></th>\n",
              "      <th>Unnamed: 0</th>\n",
              "      <th>Survey</th>\n",
              "      <th>R</th>\n",
              "      <th>CPP</th>\n",
              "    </tr>\n",
              "  </thead>\n",
              "  <tbody>\n",
              "    <tr>\n",
              "      <th>0</th>\n",
              "      <td>Amy</td>\n",
              "      <td>I have basic knowledge in Python.</td>\n",
              "      <td>0</td>\n",
              "      <td>0</td>\n",
              "    </tr>\n",
              "    <tr>\n",
              "      <th>1</th>\n",
              "      <td>Bob</td>\n",
              "      <td>I am proficient in Java, and has some knowledg...</td>\n",
              "      <td>1</td>\n",
              "      <td>0</td>\n",
              "    </tr>\n",
              "    <tr>\n",
              "      <th>2</th>\n",
              "      <td>Catherine</td>\n",
              "      <td>I am familiar with CPP, familiar with R, and f...</td>\n",
              "      <td>3</td>\n",
              "      <td>3</td>\n",
              "    </tr>\n",
              "    <tr>\n",
              "      <th>3</th>\n",
              "      <td>Dorothy</td>\n",
              "      <td>I have never used Python, but proficient in R.</td>\n",
              "      <td>4</td>\n",
              "      <td>0</td>\n",
              "    </tr>\n",
              "    <tr>\n",
              "      <th>4</th>\n",
              "      <td>Edward</td>\n",
              "      <td>I have some knowledge in CPP, and familiar wit...</td>\n",
              "      <td>0</td>\n",
              "      <td>1</td>\n",
              "    </tr>\n",
              "  </tbody>\n",
              "</table>\n",
              "</div>"
            ],
            "text/plain": [
              "  Unnamed: 0                                             Survey  R  CPP\n",
              "0        Amy                  I have basic knowledge in Python.  0    0\n",
              "1        Bob  I am proficient in Java, and has some knowledg...  1    0\n",
              "2  Catherine  I am familiar with CPP, familiar with R, and f...  3    3\n",
              "3    Dorothy     I have never used Python, but proficient in R.  4    0\n",
              "4     Edward  I have some knowledge in CPP, and familiar wit...  0    1"
            ]
          },
          "metadata": {
            "tags": []
          },
          "execution_count": 16
        }
      ]
    },
    {
      "cell_type": "code",
      "metadata": {
        "id": "2BLOsi14X0Aa",
        "colab_type": "code",
        "colab": {},
        "outputId": "f9011f39-7cfe-4749-a868-61ea88f17584"
      },
      "source": [
        "df['Python'] = df['Survey'].apply(Python)\n",
        "df.head()"
      ],
      "execution_count": 0,
      "outputs": [
        {
          "output_type": "execute_result",
          "data": {
            "text/html": [
              "<div>\n",
              "<style scoped>\n",
              "    .dataframe tbody tr th:only-of-type {\n",
              "        vertical-align: middle;\n",
              "    }\n",
              "\n",
              "    .dataframe tbody tr th {\n",
              "        vertical-align: top;\n",
              "    }\n",
              "\n",
              "    .dataframe thead th {\n",
              "        text-align: right;\n",
              "    }\n",
              "</style>\n",
              "<table border=\"1\" class=\"dataframe\">\n",
              "  <thead>\n",
              "    <tr style=\"text-align: right;\">\n",
              "      <th></th>\n",
              "      <th>Unnamed: 0</th>\n",
              "      <th>Survey</th>\n",
              "      <th>R</th>\n",
              "      <th>CPP</th>\n",
              "      <th>Python</th>\n",
              "    </tr>\n",
              "  </thead>\n",
              "  <tbody>\n",
              "    <tr>\n",
              "      <th>0</th>\n",
              "      <td>Amy</td>\n",
              "      <td>I have basic knowledge in Python.</td>\n",
              "      <td>0</td>\n",
              "      <td>0</td>\n",
              "      <td>2</td>\n",
              "    </tr>\n",
              "    <tr>\n",
              "      <th>1</th>\n",
              "      <td>Bob</td>\n",
              "      <td>I am proficient in Java, and has some knowledg...</td>\n",
              "      <td>1</td>\n",
              "      <td>0</td>\n",
              "      <td>0</td>\n",
              "    </tr>\n",
              "    <tr>\n",
              "      <th>2</th>\n",
              "      <td>Catherine</td>\n",
              "      <td>I am familiar with CPP, familiar with R, and f...</td>\n",
              "      <td>3</td>\n",
              "      <td>3</td>\n",
              "      <td>0</td>\n",
              "    </tr>\n",
              "    <tr>\n",
              "      <th>3</th>\n",
              "      <td>Dorothy</td>\n",
              "      <td>I have never used Python, but proficient in R.</td>\n",
              "      <td>4</td>\n",
              "      <td>0</td>\n",
              "      <td>0</td>\n",
              "    </tr>\n",
              "    <tr>\n",
              "      <th>4</th>\n",
              "      <td>Edward</td>\n",
              "      <td>I have some knowledge in CPP, and familiar wit...</td>\n",
              "      <td>0</td>\n",
              "      <td>1</td>\n",
              "      <td>0</td>\n",
              "    </tr>\n",
              "  </tbody>\n",
              "</table>\n",
              "</div>"
            ],
            "text/plain": [
              "  Unnamed: 0                                             Survey  R  CPP  \\\n",
              "0        Amy                  I have basic knowledge in Python.  0    0   \n",
              "1        Bob  I am proficient in Java, and has some knowledg...  1    0   \n",
              "2  Catherine  I am familiar with CPP, familiar with R, and f...  3    3   \n",
              "3    Dorothy     I have never used Python, but proficient in R.  4    0   \n",
              "4     Edward  I have some knowledge in CPP, and familiar wit...  0    1   \n",
              "\n",
              "   Python  \n",
              "0       2  \n",
              "1       0  \n",
              "2       0  \n",
              "3       0  \n",
              "4       0  "
            ]
          },
          "metadata": {
            "tags": []
          },
          "execution_count": 17
        }
      ]
    },
    {
      "cell_type": "code",
      "metadata": {
        "id": "b8jcTmrjX0Ak",
        "colab_type": "code",
        "colab": {},
        "outputId": "93a562aa-d133-4a7c-debc-fac002e8d13b"
      },
      "source": [
        "df['SQL'] = df['Survey'].apply(SQL)\n",
        "df.head()"
      ],
      "execution_count": 0,
      "outputs": [
        {
          "output_type": "execute_result",
          "data": {
            "text/html": [
              "<div>\n",
              "<style scoped>\n",
              "    .dataframe tbody tr th:only-of-type {\n",
              "        vertical-align: middle;\n",
              "    }\n",
              "\n",
              "    .dataframe tbody tr th {\n",
              "        vertical-align: top;\n",
              "    }\n",
              "\n",
              "    .dataframe thead th {\n",
              "        text-align: right;\n",
              "    }\n",
              "</style>\n",
              "<table border=\"1\" class=\"dataframe\">\n",
              "  <thead>\n",
              "    <tr style=\"text-align: right;\">\n",
              "      <th></th>\n",
              "      <th>Unnamed: 0</th>\n",
              "      <th>Survey</th>\n",
              "      <th>R</th>\n",
              "      <th>CPP</th>\n",
              "      <th>Python</th>\n",
              "      <th>SQL</th>\n",
              "    </tr>\n",
              "  </thead>\n",
              "  <tbody>\n",
              "    <tr>\n",
              "      <th>0</th>\n",
              "      <td>Amy</td>\n",
              "      <td>I have basic knowledge in Python.</td>\n",
              "      <td>0</td>\n",
              "      <td>0</td>\n",
              "      <td>2</td>\n",
              "      <td>0</td>\n",
              "    </tr>\n",
              "    <tr>\n",
              "      <th>1</th>\n",
              "      <td>Bob</td>\n",
              "      <td>I am proficient in Java, and has some knowledg...</td>\n",
              "      <td>1</td>\n",
              "      <td>0</td>\n",
              "      <td>0</td>\n",
              "      <td>0</td>\n",
              "    </tr>\n",
              "    <tr>\n",
              "      <th>2</th>\n",
              "      <td>Catherine</td>\n",
              "      <td>I am familiar with CPP, familiar with R, and f...</td>\n",
              "      <td>3</td>\n",
              "      <td>3</td>\n",
              "      <td>0</td>\n",
              "      <td>0</td>\n",
              "    </tr>\n",
              "    <tr>\n",
              "      <th>3</th>\n",
              "      <td>Dorothy</td>\n",
              "      <td>I have never used Python, but proficient in R.</td>\n",
              "      <td>4</td>\n",
              "      <td>0</td>\n",
              "      <td>0</td>\n",
              "      <td>0</td>\n",
              "    </tr>\n",
              "    <tr>\n",
              "      <th>4</th>\n",
              "      <td>Edward</td>\n",
              "      <td>I have some knowledge in CPP, and familiar wit...</td>\n",
              "      <td>0</td>\n",
              "      <td>1</td>\n",
              "      <td>0</td>\n",
              "      <td>3</td>\n",
              "    </tr>\n",
              "  </tbody>\n",
              "</table>\n",
              "</div>"
            ],
            "text/plain": [
              "  Unnamed: 0                                             Survey  R  CPP  \\\n",
              "0        Amy                  I have basic knowledge in Python.  0    0   \n",
              "1        Bob  I am proficient in Java, and has some knowledg...  1    0   \n",
              "2  Catherine  I am familiar with CPP, familiar with R, and f...  3    3   \n",
              "3    Dorothy     I have never used Python, but proficient in R.  4    0   \n",
              "4     Edward  I have some knowledge in CPP, and familiar wit...  0    1   \n",
              "\n",
              "   Python  SQL  \n",
              "0       2    0  \n",
              "1       0    0  \n",
              "2       0    0  \n",
              "3       0    0  \n",
              "4       0    3  "
            ]
          },
          "metadata": {
            "tags": []
          },
          "execution_count": 18
        }
      ]
    },
    {
      "cell_type": "code",
      "metadata": {
        "id": "GWjY6k5tX0Ax",
        "colab_type": "code",
        "colab": {},
        "outputId": "d37f0331-48c5-47a6-a95d-fbffd841b8ff"
      },
      "source": [
        "df['Matlab'] = df['Survey'].apply(Matlab)\n",
        "df.head()"
      ],
      "execution_count": 0,
      "outputs": [
        {
          "output_type": "execute_result",
          "data": {
            "text/html": [
              "<div>\n",
              "<style scoped>\n",
              "    .dataframe tbody tr th:only-of-type {\n",
              "        vertical-align: middle;\n",
              "    }\n",
              "\n",
              "    .dataframe tbody tr th {\n",
              "        vertical-align: top;\n",
              "    }\n",
              "\n",
              "    .dataframe thead th {\n",
              "        text-align: right;\n",
              "    }\n",
              "</style>\n",
              "<table border=\"1\" class=\"dataframe\">\n",
              "  <thead>\n",
              "    <tr style=\"text-align: right;\">\n",
              "      <th></th>\n",
              "      <th>Unnamed: 0</th>\n",
              "      <th>Survey</th>\n",
              "      <th>R</th>\n",
              "      <th>CPP</th>\n",
              "      <th>Python</th>\n",
              "      <th>SQL</th>\n",
              "      <th>Matlab</th>\n",
              "    </tr>\n",
              "  </thead>\n",
              "  <tbody>\n",
              "    <tr>\n",
              "      <th>0</th>\n",
              "      <td>Amy</td>\n",
              "      <td>I have basic knowledge in Python.</td>\n",
              "      <td>0</td>\n",
              "      <td>0</td>\n",
              "      <td>2</td>\n",
              "      <td>0</td>\n",
              "      <td>0</td>\n",
              "    </tr>\n",
              "    <tr>\n",
              "      <th>1</th>\n",
              "      <td>Bob</td>\n",
              "      <td>I am proficient in Java, and has some knowledg...</td>\n",
              "      <td>1</td>\n",
              "      <td>0</td>\n",
              "      <td>0</td>\n",
              "      <td>0</td>\n",
              "      <td>0</td>\n",
              "    </tr>\n",
              "    <tr>\n",
              "      <th>2</th>\n",
              "      <td>Catherine</td>\n",
              "      <td>I am familiar with CPP, familiar with R, and f...</td>\n",
              "      <td>3</td>\n",
              "      <td>3</td>\n",
              "      <td>0</td>\n",
              "      <td>0</td>\n",
              "      <td>3</td>\n",
              "    </tr>\n",
              "    <tr>\n",
              "      <th>3</th>\n",
              "      <td>Dorothy</td>\n",
              "      <td>I have never used Python, but proficient in R.</td>\n",
              "      <td>4</td>\n",
              "      <td>0</td>\n",
              "      <td>0</td>\n",
              "      <td>0</td>\n",
              "      <td>0</td>\n",
              "    </tr>\n",
              "    <tr>\n",
              "      <th>4</th>\n",
              "      <td>Edward</td>\n",
              "      <td>I have some knowledge in CPP, and familiar wit...</td>\n",
              "      <td>0</td>\n",
              "      <td>1</td>\n",
              "      <td>0</td>\n",
              "      <td>3</td>\n",
              "      <td>0</td>\n",
              "    </tr>\n",
              "  </tbody>\n",
              "</table>\n",
              "</div>"
            ],
            "text/plain": [
              "  Unnamed: 0                                             Survey  R  CPP  \\\n",
              "0        Amy                  I have basic knowledge in Python.  0    0   \n",
              "1        Bob  I am proficient in Java, and has some knowledg...  1    0   \n",
              "2  Catherine  I am familiar with CPP, familiar with R, and f...  3    3   \n",
              "3    Dorothy     I have never used Python, but proficient in R.  4    0   \n",
              "4     Edward  I have some knowledge in CPP, and familiar wit...  0    1   \n",
              "\n",
              "   Python  SQL  Matlab  \n",
              "0       2    0       0  \n",
              "1       0    0       0  \n",
              "2       0    0       3  \n",
              "3       0    0       0  \n",
              "4       0    3       0  "
            ]
          },
          "metadata": {
            "tags": []
          },
          "execution_count": 19
        }
      ]
    },
    {
      "cell_type": "code",
      "metadata": {
        "id": "atxNSPzmX0A_",
        "colab_type": "code",
        "colab": {},
        "outputId": "692222ed-fff7-4830-f4f4-70cd719cd603"
      },
      "source": [
        "df['Tableau'] = df['Survey'].apply(Tableau)\n",
        "df.head()"
      ],
      "execution_count": 0,
      "outputs": [
        {
          "output_type": "execute_result",
          "data": {
            "text/html": [
              "<div>\n",
              "<style scoped>\n",
              "    .dataframe tbody tr th:only-of-type {\n",
              "        vertical-align: middle;\n",
              "    }\n",
              "\n",
              "    .dataframe tbody tr th {\n",
              "        vertical-align: top;\n",
              "    }\n",
              "\n",
              "    .dataframe thead th {\n",
              "        text-align: right;\n",
              "    }\n",
              "</style>\n",
              "<table border=\"1\" class=\"dataframe\">\n",
              "  <thead>\n",
              "    <tr style=\"text-align: right;\">\n",
              "      <th></th>\n",
              "      <th>Unnamed: 0</th>\n",
              "      <th>Survey</th>\n",
              "      <th>R</th>\n",
              "      <th>CPP</th>\n",
              "      <th>Python</th>\n",
              "      <th>SQL</th>\n",
              "      <th>Matlab</th>\n",
              "      <th>Tableau</th>\n",
              "    </tr>\n",
              "  </thead>\n",
              "  <tbody>\n",
              "    <tr>\n",
              "      <th>0</th>\n",
              "      <td>Amy</td>\n",
              "      <td>I have basic knowledge in Python.</td>\n",
              "      <td>0</td>\n",
              "      <td>0</td>\n",
              "      <td>2</td>\n",
              "      <td>0</td>\n",
              "      <td>0</td>\n",
              "      <td>0</td>\n",
              "    </tr>\n",
              "    <tr>\n",
              "      <th>1</th>\n",
              "      <td>Bob</td>\n",
              "      <td>I am proficient in Java, and has some knowledg...</td>\n",
              "      <td>1</td>\n",
              "      <td>0</td>\n",
              "      <td>0</td>\n",
              "      <td>0</td>\n",
              "      <td>0</td>\n",
              "      <td>0</td>\n",
              "    </tr>\n",
              "    <tr>\n",
              "      <th>2</th>\n",
              "      <td>Catherine</td>\n",
              "      <td>I am familiar with CPP, familiar with R, and f...</td>\n",
              "      <td>3</td>\n",
              "      <td>3</td>\n",
              "      <td>0</td>\n",
              "      <td>0</td>\n",
              "      <td>3</td>\n",
              "      <td>0</td>\n",
              "    </tr>\n",
              "    <tr>\n",
              "      <th>3</th>\n",
              "      <td>Dorothy</td>\n",
              "      <td>I have never used Python, but proficient in R.</td>\n",
              "      <td>4</td>\n",
              "      <td>0</td>\n",
              "      <td>0</td>\n",
              "      <td>0</td>\n",
              "      <td>0</td>\n",
              "      <td>0</td>\n",
              "    </tr>\n",
              "    <tr>\n",
              "      <th>4</th>\n",
              "      <td>Edward</td>\n",
              "      <td>I have some knowledge in CPP, and familiar wit...</td>\n",
              "      <td>0</td>\n",
              "      <td>1</td>\n",
              "      <td>0</td>\n",
              "      <td>3</td>\n",
              "      <td>0</td>\n",
              "      <td>0</td>\n",
              "    </tr>\n",
              "  </tbody>\n",
              "</table>\n",
              "</div>"
            ],
            "text/plain": [
              "  Unnamed: 0                                             Survey  R  CPP  \\\n",
              "0        Amy                  I have basic knowledge in Python.  0    0   \n",
              "1        Bob  I am proficient in Java, and has some knowledg...  1    0   \n",
              "2  Catherine  I am familiar with CPP, familiar with R, and f...  3    3   \n",
              "3    Dorothy     I have never used Python, but proficient in R.  4    0   \n",
              "4     Edward  I have some knowledge in CPP, and familiar wit...  0    1   \n",
              "\n",
              "   Python  SQL  Matlab  Tableau  \n",
              "0       2    0       0        0  \n",
              "1       0    0       0        0  \n",
              "2       0    0       3        0  \n",
              "3       0    0       0        0  \n",
              "4       0    3       0        0  "
            ]
          },
          "metadata": {
            "tags": []
          },
          "execution_count": 20
        }
      ]
    },
    {
      "cell_type": "code",
      "metadata": {
        "id": "EP3rBvceX0BL",
        "colab_type": "code",
        "colab": {},
        "outputId": "bfecd3f3-6dce-4e36-9efd-e07c79a66798"
      },
      "source": [
        "df['Java'] = df['Survey'].apply(Java)\n",
        "df.head()"
      ],
      "execution_count": 0,
      "outputs": [
        {
          "output_type": "execute_result",
          "data": {
            "text/html": [
              "<div>\n",
              "<style scoped>\n",
              "    .dataframe tbody tr th:only-of-type {\n",
              "        vertical-align: middle;\n",
              "    }\n",
              "\n",
              "    .dataframe tbody tr th {\n",
              "        vertical-align: top;\n",
              "    }\n",
              "\n",
              "    .dataframe thead th {\n",
              "        text-align: right;\n",
              "    }\n",
              "</style>\n",
              "<table border=\"1\" class=\"dataframe\">\n",
              "  <thead>\n",
              "    <tr style=\"text-align: right;\">\n",
              "      <th></th>\n",
              "      <th>Unnamed: 0</th>\n",
              "      <th>Survey</th>\n",
              "      <th>R</th>\n",
              "      <th>CPP</th>\n",
              "      <th>Python</th>\n",
              "      <th>SQL</th>\n",
              "      <th>Matlab</th>\n",
              "      <th>Tableau</th>\n",
              "      <th>Java</th>\n",
              "    </tr>\n",
              "  </thead>\n",
              "  <tbody>\n",
              "    <tr>\n",
              "      <th>0</th>\n",
              "      <td>Amy</td>\n",
              "      <td>I have basic knowledge in Python.</td>\n",
              "      <td>0</td>\n",
              "      <td>0</td>\n",
              "      <td>2</td>\n",
              "      <td>0</td>\n",
              "      <td>0</td>\n",
              "      <td>0</td>\n",
              "      <td>0</td>\n",
              "    </tr>\n",
              "    <tr>\n",
              "      <th>1</th>\n",
              "      <td>Bob</td>\n",
              "      <td>I am proficient in Java, and has some knowledg...</td>\n",
              "      <td>1</td>\n",
              "      <td>0</td>\n",
              "      <td>0</td>\n",
              "      <td>0</td>\n",
              "      <td>0</td>\n",
              "      <td>0</td>\n",
              "      <td>4</td>\n",
              "    </tr>\n",
              "    <tr>\n",
              "      <th>2</th>\n",
              "      <td>Catherine</td>\n",
              "      <td>I am familiar with CPP, familiar with R, and f...</td>\n",
              "      <td>3</td>\n",
              "      <td>3</td>\n",
              "      <td>0</td>\n",
              "      <td>0</td>\n",
              "      <td>3</td>\n",
              "      <td>0</td>\n",
              "      <td>0</td>\n",
              "    </tr>\n",
              "    <tr>\n",
              "      <th>3</th>\n",
              "      <td>Dorothy</td>\n",
              "      <td>I have never used Python, but proficient in R.</td>\n",
              "      <td>4</td>\n",
              "      <td>0</td>\n",
              "      <td>0</td>\n",
              "      <td>0</td>\n",
              "      <td>0</td>\n",
              "      <td>0</td>\n",
              "      <td>0</td>\n",
              "    </tr>\n",
              "    <tr>\n",
              "      <th>4</th>\n",
              "      <td>Edward</td>\n",
              "      <td>I have some knowledge in CPP, and familiar wit...</td>\n",
              "      <td>0</td>\n",
              "      <td>1</td>\n",
              "      <td>0</td>\n",
              "      <td>3</td>\n",
              "      <td>0</td>\n",
              "      <td>0</td>\n",
              "      <td>0</td>\n",
              "    </tr>\n",
              "  </tbody>\n",
              "</table>\n",
              "</div>"
            ],
            "text/plain": [
              "  Unnamed: 0                                             Survey  R  CPP  \\\n",
              "0        Amy                  I have basic knowledge in Python.  0    0   \n",
              "1        Bob  I am proficient in Java, and has some knowledg...  1    0   \n",
              "2  Catherine  I am familiar with CPP, familiar with R, and f...  3    3   \n",
              "3    Dorothy     I have never used Python, but proficient in R.  4    0   \n",
              "4     Edward  I have some knowledge in CPP, and familiar wit...  0    1   \n",
              "\n",
              "   Python  SQL  Matlab  Tableau  Java  \n",
              "0       2    0       0        0     0  \n",
              "1       0    0       0        0     4  \n",
              "2       0    0       3        0     0  \n",
              "3       0    0       0        0     0  \n",
              "4       0    3       0        0     0  "
            ]
          },
          "metadata": {
            "tags": []
          },
          "execution_count": 21
        }
      ]
    },
    {
      "cell_type": "code",
      "metadata": {
        "id": "Ewi6KkJOc4A5",
        "colab_type": "code",
        "colab": {}
      },
      "source": [
        "#Making new columns for their proficiency in programing language based on their responses in survey"
      ],
      "execution_count": 0,
      "outputs": []
    },
    {
      "cell_type": "code",
      "metadata": {
        "id": "pdcmM22yX0BZ",
        "colab_type": "code",
        "colab": {},
        "outputId": "9236437c-b225-4e21-a451-2474484ddeaf"
      },
      "source": [
        "df.drop(\"Survey\", axis=1)"
      ],
      "execution_count": 0,
      "outputs": [
        {
          "output_type": "execute_result",
          "data": {
            "text/html": [
              "<div>\n",
              "<style scoped>\n",
              "    .dataframe tbody tr th:only-of-type {\n",
              "        vertical-align: middle;\n",
              "    }\n",
              "\n",
              "    .dataframe tbody tr th {\n",
              "        vertical-align: top;\n",
              "    }\n",
              "\n",
              "    .dataframe thead th {\n",
              "        text-align: right;\n",
              "    }\n",
              "</style>\n",
              "<table border=\"1\" class=\"dataframe\">\n",
              "  <thead>\n",
              "    <tr style=\"text-align: right;\">\n",
              "      <th></th>\n",
              "      <th>Unnamed: 0</th>\n",
              "      <th>R</th>\n",
              "      <th>CPP</th>\n",
              "      <th>Python</th>\n",
              "      <th>SQL</th>\n",
              "      <th>Matlab</th>\n",
              "      <th>Tableau</th>\n",
              "      <th>Java</th>\n",
              "    </tr>\n",
              "  </thead>\n",
              "  <tbody>\n",
              "    <tr>\n",
              "      <th>0</th>\n",
              "      <td>Amy</td>\n",
              "      <td>0</td>\n",
              "      <td>0</td>\n",
              "      <td>2</td>\n",
              "      <td>0</td>\n",
              "      <td>0</td>\n",
              "      <td>0</td>\n",
              "      <td>0</td>\n",
              "    </tr>\n",
              "    <tr>\n",
              "      <th>1</th>\n",
              "      <td>Bob</td>\n",
              "      <td>1</td>\n",
              "      <td>0</td>\n",
              "      <td>0</td>\n",
              "      <td>0</td>\n",
              "      <td>0</td>\n",
              "      <td>0</td>\n",
              "      <td>4</td>\n",
              "    </tr>\n",
              "    <tr>\n",
              "      <th>2</th>\n",
              "      <td>Catherine</td>\n",
              "      <td>3</td>\n",
              "      <td>3</td>\n",
              "      <td>0</td>\n",
              "      <td>0</td>\n",
              "      <td>3</td>\n",
              "      <td>0</td>\n",
              "      <td>0</td>\n",
              "    </tr>\n",
              "    <tr>\n",
              "      <th>3</th>\n",
              "      <td>Dorothy</td>\n",
              "      <td>4</td>\n",
              "      <td>0</td>\n",
              "      <td>0</td>\n",
              "      <td>0</td>\n",
              "      <td>0</td>\n",
              "      <td>0</td>\n",
              "      <td>0</td>\n",
              "    </tr>\n",
              "    <tr>\n",
              "      <th>4</th>\n",
              "      <td>Edward</td>\n",
              "      <td>0</td>\n",
              "      <td>1</td>\n",
              "      <td>0</td>\n",
              "      <td>3</td>\n",
              "      <td>0</td>\n",
              "      <td>0</td>\n",
              "      <td>0</td>\n",
              "    </tr>\n",
              "    <tr>\n",
              "      <th>5</th>\n",
              "      <td>Frankie</td>\n",
              "      <td>0</td>\n",
              "      <td>0</td>\n",
              "      <td>2</td>\n",
              "      <td>0</td>\n",
              "      <td>0</td>\n",
              "      <td>0</td>\n",
              "      <td>0</td>\n",
              "    </tr>\n",
              "    <tr>\n",
              "      <th>6</th>\n",
              "      <td>Gregory</td>\n",
              "      <td>0</td>\n",
              "      <td>0</td>\n",
              "      <td>0</td>\n",
              "      <td>2</td>\n",
              "      <td>0</td>\n",
              "      <td>0</td>\n",
              "      <td>0</td>\n",
              "    </tr>\n",
              "    <tr>\n",
              "      <th>7</th>\n",
              "      <td>Heather</td>\n",
              "      <td>0</td>\n",
              "      <td>4</td>\n",
              "      <td>4</td>\n",
              "      <td>0</td>\n",
              "      <td>0</td>\n",
              "      <td>0</td>\n",
              "      <td>0</td>\n",
              "    </tr>\n",
              "    <tr>\n",
              "      <th>8</th>\n",
              "      <td>Iris</td>\n",
              "      <td>2</td>\n",
              "      <td>1</td>\n",
              "      <td>0</td>\n",
              "      <td>0</td>\n",
              "      <td>0</td>\n",
              "      <td>0</td>\n",
              "      <td>0</td>\n",
              "    </tr>\n",
              "    <tr>\n",
              "      <th>9</th>\n",
              "      <td>Javard</td>\n",
              "      <td>0</td>\n",
              "      <td>0</td>\n",
              "      <td>0</td>\n",
              "      <td>0</td>\n",
              "      <td>0</td>\n",
              "      <td>3</td>\n",
              "      <td>0</td>\n",
              "    </tr>\n",
              "  </tbody>\n",
              "</table>\n",
              "</div>"
            ],
            "text/plain": [
              "  Unnamed: 0  R  CPP  Python  SQL  Matlab  Tableau  Java\n",
              "0        Amy  0    0       2    0       0        0     0\n",
              "1        Bob  1    0       0    0       0        0     4\n",
              "2  Catherine  3    3       0    0       3        0     0\n",
              "3    Dorothy  4    0       0    0       0        0     0\n",
              "4     Edward  0    1       0    3       0        0     0\n",
              "5    Frankie  0    0       2    0       0        0     0\n",
              "6    Gregory  0    0       0    2       0        0     0\n",
              "7    Heather  0    4       4    0       0        0     0\n",
              "8       Iris  2    1       0    0       0        0     0\n",
              "9     Javard  0    0       0    0       0        3     0"
            ]
          },
          "metadata": {
            "tags": []
          },
          "execution_count": 25
        }
      ]
    },
    {
      "cell_type": "code",
      "metadata": {
        "id": "eET-nFsadcK0",
        "colab_type": "code",
        "colab": {}
      },
      "source": [
        "# Droping survey column to make the table the same as the one showed in question"
      ],
      "execution_count": 0,
      "outputs": []
    }
  ]
}